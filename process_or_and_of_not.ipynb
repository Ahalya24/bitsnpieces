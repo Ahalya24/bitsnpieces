{
 "cells": [
  {
   "cell_type": "code",
   "execution_count": 91,
   "metadata": {},
   "outputs": [
    {
     "name": "stdout",
     "output_type": "stream",
     "text": [
      "[' SYNTHETIC FIBER', ' COTTON']\n",
      "WOMEN'S OR GIRLS' SUITS OF, KNITTED OR CROCHETED OF,\n"
     ]
    }
   ],
   "source": [
    "import re\n",
    "#process OF words\n",
    "s=\"WOMEN'S OR GIRLS' SUITS OF SYNTHETIC FIBER, KNITTED OR CROCHETED OF COTTON\"\n",
    "n2=\"HANDKERCHIEFS OF MAN-MADE FIBERS, NOT KNIT/CROCHTD\"\n",
    "s1=s+','\n",
    "s1=s1.replace('NOT',',NOT')\n",
    "of_words=(re.findall(r'OF(.*?),',s1,re.IGNORECASE))\n",
    "print (of_words)\n",
    "\n",
    "for f in of_words:\n",
    "    s1=s1.replace(f,'')\n",
    "print (s1)"
   ]
  },
  {
   "cell_type": "code",
   "execution_count": 92,
   "metadata": {},
   "outputs": [
    {
     "name": "stdout",
     "output_type": "stream",
     "text": [
      "WOMEN'S OR GIRLS' SUITS OF, KNITTED OR CROCHETED OF,\n"
     ]
    }
   ],
   "source": [
    "# remove NOT words\n",
    "for not_word in (re.findall(r'not(.*?)$',s1,re.IGNORECASE)):\n",
    "    s1=s1.replace(not_word,'')\n",
    "\n",
    "print (s1)"
   ]
  },
  {
   "cell_type": "code",
   "execution_count": 93,
   "metadata": {},
   "outputs": [
    {
     "name": "stdout",
     "output_type": "stream",
     "text": [
      "WOMEN'S  GIRLS' SUITS  KNITTED  CROCHETED  [' SYNTHETIC FIBER', ' COTTON']\n"
     ]
    }
   ],
   "source": [
    "delim=['OF','OR','AND',',','NOT']\n",
    "for d in delim:\n",
    "    s1=s1.replace(d,'')\n",
    "\n",
    "and_or_words=s1.split()\n",
    "print (s1,of_words)"
   ]
  },
  {
   "cell_type": "code",
   "execution_count": 94,
   "metadata": {},
   "outputs": [
    {
     "name": "stdout",
     "output_type": "stream",
     "text": [
      "[\"WOMEN'S\", ' SYNTHETIC FIBER']\n",
      "[\"GIRLS'\", ' SYNTHETIC FIBER']\n",
      "['SUITS', ' SYNTHETIC FIBER']\n",
      "['KNITTED', ' SYNTHETIC FIBER']\n",
      "['CROCHETED', ' SYNTHETIC FIBER']\n",
      "[\"WOMEN'S\", \"GIRLS'\", ' SYNTHETIC FIBER']\n",
      "[\"WOMEN'S\", 'SUITS', ' SYNTHETIC FIBER']\n",
      "[\"WOMEN'S\", 'KNITTED', ' SYNTHETIC FIBER']\n",
      "[\"WOMEN'S\", 'CROCHETED', ' SYNTHETIC FIBER']\n",
      "[\"GIRLS'\", 'SUITS', ' SYNTHETIC FIBER']\n",
      "[\"GIRLS'\", 'KNITTED', ' SYNTHETIC FIBER']\n",
      "[\"GIRLS'\", 'CROCHETED', ' SYNTHETIC FIBER']\n",
      "['SUITS', 'KNITTED', ' SYNTHETIC FIBER']\n",
      "['SUITS', 'CROCHETED', ' SYNTHETIC FIBER']\n",
      "['KNITTED', 'CROCHETED', ' SYNTHETIC FIBER']\n",
      "[\"WOMEN'S\", \"GIRLS'\", 'SUITS', ' SYNTHETIC FIBER']\n",
      "[\"WOMEN'S\", \"GIRLS'\", 'KNITTED', ' SYNTHETIC FIBER']\n",
      "[\"WOMEN'S\", \"GIRLS'\", 'CROCHETED', ' SYNTHETIC FIBER']\n",
      "[\"WOMEN'S\", 'SUITS', 'KNITTED', ' SYNTHETIC FIBER']\n",
      "[\"WOMEN'S\", 'SUITS', 'CROCHETED', ' SYNTHETIC FIBER']\n",
      "[\"WOMEN'S\", 'KNITTED', 'CROCHETED', ' SYNTHETIC FIBER']\n",
      "[\"GIRLS'\", 'SUITS', 'KNITTED', ' SYNTHETIC FIBER']\n",
      "[\"GIRLS'\", 'SUITS', 'CROCHETED', ' SYNTHETIC FIBER']\n",
      "[\"GIRLS'\", 'KNITTED', 'CROCHETED', ' SYNTHETIC FIBER']\n",
      "['SUITS', 'KNITTED', 'CROCHETED', ' SYNTHETIC FIBER']\n",
      "[\"WOMEN'S\", \"GIRLS'\", 'SUITS', 'KNITTED', ' SYNTHETIC FIBER']\n",
      "[\"WOMEN'S\", \"GIRLS'\", 'SUITS', 'CROCHETED', ' SYNTHETIC FIBER']\n",
      "[\"WOMEN'S\", \"GIRLS'\", 'KNITTED', 'CROCHETED', ' SYNTHETIC FIBER']\n",
      "[\"WOMEN'S\", 'SUITS', 'KNITTED', 'CROCHETED', ' SYNTHETIC FIBER']\n",
      "[\"GIRLS'\", 'SUITS', 'KNITTED', 'CROCHETED', ' SYNTHETIC FIBER']\n",
      "[\"WOMEN'S\", \"GIRLS'\", 'SUITS', 'KNITTED', 'CROCHETED', ' SYNTHETIC FIBER']\n",
      "[\"WOMEN'S\", ' COTTON']\n",
      "[\"GIRLS'\", ' COTTON']\n",
      "['SUITS', ' COTTON']\n",
      "['KNITTED', ' COTTON']\n",
      "['CROCHETED', ' COTTON']\n",
      "[\"WOMEN'S\", \"GIRLS'\", ' COTTON']\n",
      "[\"WOMEN'S\", 'SUITS', ' COTTON']\n",
      "[\"WOMEN'S\", 'KNITTED', ' COTTON']\n",
      "[\"WOMEN'S\", 'CROCHETED', ' COTTON']\n",
      "[\"GIRLS'\", 'SUITS', ' COTTON']\n",
      "[\"GIRLS'\", 'KNITTED', ' COTTON']\n",
      "[\"GIRLS'\", 'CROCHETED', ' COTTON']\n",
      "['SUITS', 'KNITTED', ' COTTON']\n",
      "['SUITS', 'CROCHETED', ' COTTON']\n",
      "['KNITTED', 'CROCHETED', ' COTTON']\n",
      "[\"WOMEN'S\", \"GIRLS'\", 'SUITS', ' COTTON']\n",
      "[\"WOMEN'S\", \"GIRLS'\", 'KNITTED', ' COTTON']\n",
      "[\"WOMEN'S\", \"GIRLS'\", 'CROCHETED', ' COTTON']\n",
      "[\"WOMEN'S\", 'SUITS', 'KNITTED', ' COTTON']\n",
      "[\"WOMEN'S\", 'SUITS', 'CROCHETED', ' COTTON']\n",
      "[\"WOMEN'S\", 'KNITTED', 'CROCHETED', ' COTTON']\n",
      "[\"GIRLS'\", 'SUITS', 'KNITTED', ' COTTON']\n",
      "[\"GIRLS'\", 'SUITS', 'CROCHETED', ' COTTON']\n",
      "[\"GIRLS'\", 'KNITTED', 'CROCHETED', ' COTTON']\n",
      "['SUITS', 'KNITTED', 'CROCHETED', ' COTTON']\n",
      "[\"WOMEN'S\", \"GIRLS'\", 'SUITS', 'KNITTED', ' COTTON']\n",
      "[\"WOMEN'S\", \"GIRLS'\", 'SUITS', 'CROCHETED', ' COTTON']\n",
      "[\"WOMEN'S\", \"GIRLS'\", 'KNITTED', 'CROCHETED', ' COTTON']\n",
      "[\"WOMEN'S\", 'SUITS', 'KNITTED', 'CROCHETED', ' COTTON']\n",
      "[\"GIRLS'\", 'SUITS', 'KNITTED', 'CROCHETED', ' COTTON']\n",
      "[\"WOMEN'S\", \"GIRLS'\", 'SUITS', 'KNITTED', 'CROCHETED', ' COTTON']\n"
     ]
    }
   ],
   "source": [
    "import itertools\n",
    "\n",
    "for f in of_words:\n",
    "    for L in range(1, len(and_or_words)+1):\n",
    "        for subset in itertools.combinations(and_or_words, L):\n",
    "            s=list(subset)\n",
    "            s.append(f)\n",
    "            print (s)"
   ]
  },
  {
   "cell_type": "code",
   "execution_count": null,
   "metadata": {
    "collapsed": true
   },
   "outputs": [],
   "source": []
  }
 ],
 "metadata": {
  "kernelspec": {
   "display_name": "Python 3",
   "language": "python",
   "name": "python3"
  },
  "language_info": {
   "codemirror_mode": {
    "name": "ipython",
    "version": 3
   },
   "file_extension": ".py",
   "mimetype": "text/x-python",
   "name": "python",
   "nbconvert_exporter": "python",
   "pygments_lexer": "ipython3",
   "version": "3.6.1"
  }
 },
 "nbformat": 4,
 "nbformat_minor": 2
}
